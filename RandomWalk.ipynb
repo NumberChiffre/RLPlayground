{
  "nbformat": 4,
  "nbformat_minor": 0,
  "metadata": {
    "colab": {
      "name": "HW2_6235.ipynb",
      "provenance": []
    },
    "kernelspec": {
      "name": "python3",
      "display_name": "Python 3"
    },
    "accelerator": "GPU"
  },
  "cells": [
    {
      "cell_type": "code",
      "metadata": {
        "id": "6NbgIi9s-n3W",
        "colab_type": "code",
        "colab": {}
      },
      "source": [
        ""
      ],
      "execution_count": 0,
      "outputs": []
    },
    {
      "cell_type": "markdown",
      "metadata": {
        "id": "jdJ54M4IAY_t",
        "colab_type": "text"
      },
      "source": [
        "# Implement Sparse Coding"
      ]
    },
    {
      "cell_type": "code",
      "metadata": {
        "id": "bUy5yqpk-usD",
        "colab_type": "code",
        "colab": {}
      },
      "source": [
        "# input is location of point\n",
        "# output is state feature extracted\n",
        "import numpy as np\n",
        "\n",
        "class Tile():\n",
        "\n",
        "    def __init__(self, \n",
        "                 interval = 10, \n",
        "                 seed = None, \n",
        "                 start = None,\n",
        "                 end = None, \n",
        "                 tile_num = None\n",
        "                 ):\n",
        "        self.interval = interval\n",
        "        self.seed = seed\n",
        "        self.start = start\n",
        "        self.end = end\n",
        "        self.diff = (self.end-self.start)/self.interval\n",
        "        self.feature = np.zeros((self.tile_num, 1+self.interval))\n",
        "        self.tile_num = tile_num\n",
        "        self.offset = np.zeros(self.tile_num)\n",
        "        self.tiling = np.tile(np.linspace(self.start, self.end, 1+1+self.interval), (self.tile_num, 1))\n",
        "        \n",
        "\n",
        "    def make_tiling(self):\n",
        "        np.random.seed(self.seed)\n",
        "        self.offset = np.random.uniform(low = 0, high = self.diff, \n",
        "                                        size = self.tile_num)\n",
        "        self.tiling += self.offset.reshape(self.tile_num, -1)\n",
        "    \n",
        "    # loc is the location of the state\n",
        "    def get_feature(self, loc):\n",
        "        index = np.sum(self.tiling < loc, axis = 1) -1\n",
        "        self.feature = np.zeros((self.tile_num, 1+self.interval))\n",
        "        self.feature[index] = 1\n",
        "        return self.feature.flatten()\n",
        "        \n",
        "\n",
        "    "
      ],
      "execution_count": 0,
      "outputs": []
    },
    {
      "cell_type": "markdown",
      "metadata": {
        "id": "7vSF78ymOnzp",
        "colab_type": "text"
      },
      "source": [
        "# Implement TD($\\lambda$)"
      ]
    },
    {
      "cell_type": "code",
      "metadata": {
        "id": "bm1I2tSTKx6i",
        "colab_type": "code",
        "colab": {}
      },
      "source": [
        "class TD():\n",
        "\n",
        "    def __init__(self,\n",
        "                 lambda, \n",
        "                 ):\n",
        "        self.lambda = lambda\n",
        "        \n",
        "    "
      ],
      "execution_count": 0,
      "outputs": []
    }
  ]
}